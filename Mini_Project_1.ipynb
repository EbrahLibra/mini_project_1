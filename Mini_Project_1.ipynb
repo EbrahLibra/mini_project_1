{
  "nbformat": 4,
  "nbformat_minor": 0,
  "metadata": {
    "colab": {
      "name": "Mini_Project_1.ipynb",
      "provenance": [],
      "collapsed_sections": []
    },
    "kernelspec": {
      "name": "python3",
      "display_name": "Python 3"
    },
    "language_info": {
      "name": "python"
    }
  },
  "cells": [
    {
      "cell_type": "markdown",
      "metadata": {
        "id": "cAQIk9wOqAqr"
      },
      "source": [
        "#**Task 1: Text Classification**\n",
        "\n"
      ]
    },
    {
      "cell_type": "markdown",
      "metadata": {
        "id": "pDOMGeII6r6n"
      },
      "source": [
        "## Step 1: Download the data (Task 1.1)\n"
      ]
    },
    {
      "cell_type": "code",
      "metadata": {
        "id": "FprkTH_bfoiA"
      },
      "source": [
        "# Mount a drive\n",
        "from google.colab import drive\n",
        "\n",
        "# drive.mount(\"/content/gdrive\")"
      ],
      "execution_count": null,
      "outputs": []
    },
    {
      "cell_type": "markdown",
      "metadata": {
        "id": "N3O6-2WD7cig"
      },
      "source": [
        "### Download the Drug Dataset\n",
        "\n"
      ]
    },
    {
      "cell_type": "code",
      "metadata": {
        "id": "O_RpP8B87bYD"
      },
      "source": [
        "# Upload the Drug data set as the drug200.csv file\n",
        "import pandas as pd\n",
        "from google.colab import files\n",
        "\n",
        "drug_dataset = files.upload()\n",
        "\n",
        "# check proper upload\n",
        "pd.read_csv(\"drug200.csv\")"
      ],
      "execution_count": null,
      "outputs": []
    },
    {
      "cell_type": "markdown",
      "metadata": {
        "id": "ayWxQh8P73UY"
      },
      "source": [
        "### Download the BBC Dataset"
      ]
    },
    {
      "cell_type": "code",
      "metadata": {
        "id": "aCauoi5p791k"
      },
      "source": [
        "# Upload the BBC data set as the zip file\n",
        "import pandas as pd\n",
        "import os\n",
        "from google.colab import files\n",
        "\n",
        "bbc_zipped = files.upload()\n",
        "\n",
        "!unzip \\*.zip  && rm *.zip\n",
        "\n",
        "bbc_dataset = os.listdir('BBC')"
      ],
      "execution_count": null,
      "outputs": []
    },
    {
      "cell_type": "markdown",
      "metadata": {
        "id": "OVuTabWXoTss"
      },
      "source": [
        "## Step 2 Load the corpus using load files and make sure you set the encoding to latin1. (Task 1.3)"
      ]
    },
    {
      "cell_type": "markdown",
      "metadata": {
        "id": "nytdwd5yqlEy"
      },
      "source": [
        "### Get and group the data"
      ]
    },
    {
      "cell_type": "code",
      "metadata": {
        "id": "VaUqx3yLrIt1",
        "colab": {
          "base_uri": "https://localhost:8080/"
        },
        "outputId": "38085c33-bc67-43b8-9cc7-3986fa71afae"
      },
      "source": [
        "import sklearn.datasets\n",
        "import re\n",
        "\n",
        "def load_files_of_BBC(category=None):\n",
        "    files_load = sklearn.datasets.load_files('BBC', description=\"\"\"\n",
        "     D. Greene and P. Cunningham. \"Practical Solutions to the Problem of Diagonal Dominance in Kernel Document Clustering\", Proc. ICML 2006.6\n",
        "     \"\"\", categories=category, encoding='latin1')\n",
        "    length = len(files_load .data)\n",
        "    filesnames = list(map(lambda x : x[x.rfind(\"/\")+1:],files_load.filenames))\n",
        "    return files, length\n",
        "  \n",
        "#all BBC data and size\n",
        "allBBCFiles,allBBCDataSize = load_files_of_BBC()\n",
        "\\\n",
        "# #BBC business Data and size\n",
        "businessFiles,businessDataSize = load_files_of_BBC('business')\n",
        "\n",
        "# #BBC entertainment Data and size\n",
        "entertainmentFiles,entertainmentDataSize  = load_files_of_BBC('entertainment')\n",
        "\n",
        "# #BBC politics Data and size\n",
        "politicsFiles,politicsDataSize = load_files_of_BBC('politics')\n",
        "\n",
        "# #BBC sport Data and size\n",
        "sportFiles, sportDataSize = load_files_of_BBC('sport')\n",
        "\n",
        "# #BBC tech Data \n",
        "techFiles,techDataSize = load_files_of_BBC('tech')"
      ],
      "execution_count": null,
      "outputs": [
        {
          "output_type": "stream",
          "name": "stdout",
          "text": [
            "['385.txt', '160.txt', '090.txt', '074.txt', '399.txt', '398.txt', '364.txt', '155.txt', '228.txt', '093.txt', '508.txt', '020.txt', '240.txt', '003.txt', '155.txt', '448.txt', '454.txt', '040.txt', '429.txt', '153.txt', '112.txt', '275.txt', '488.txt', '310.txt', '332.txt', '447.txt', '283.txt', '149.txt', '387.txt', '492.txt', '196.txt', '424.txt', '326.txt', '257.txt', '035.txt', '054.txt', '129.txt', '317.txt', '015.txt', '359.txt', '113.txt', '026.txt', '285.txt', '125.txt', '400.txt', '230.txt', '283.txt', '462.txt', '099.txt', '108.txt', '466.txt', '061.txt', '284.txt', '385.txt', '132.txt', '165.txt', '265.txt', '363.txt', '380.txt', '311.txt', '277.txt', '481.txt', '234.txt', '135.txt', '027.txt', '207.txt', '315.txt', '136.txt', '068.txt', '120.txt', '078.txt', '232.txt', '111.txt', '416.txt', '178.txt', '062.txt', '133.txt', '156.txt', '345.txt', '011.txt', '460.txt', '037.txt', '290.txt', '077.txt', '023.txt', '228.txt', '182.txt', '192.txt', '056.txt', '444.txt', '441.txt', '203.txt', '157.txt', '071.txt', '383.txt', '128.txt', '363.txt', '235.txt', '327.txt', '073.txt', '258.txt', '187.txt', '304.txt', '354.txt', '253.txt', '215.txt', '069.txt', '038.txt', '504.txt', '015.txt', '245.txt', '208.txt', '011.txt', '027.txt', '179.txt', '079.txt', '048.txt', '026.txt', '138.txt', '376.txt', '224.txt', '144.txt', '328.txt', '370.txt', '044.txt', '179.txt', '309.txt', '297.txt', '385.txt', '094.txt', '105.txt', '177.txt', '215.txt', '105.txt', '419.txt', '049.txt', '386.txt', '284.txt', '068.txt', '049.txt', '356.txt', '374.txt', '047.txt', '246.txt', '085.txt', '366.txt', '462.txt', '502.txt', '082.txt', '221.txt', '029.txt', '100.txt', '206.txt', '028.txt', '225.txt', '315.txt', '076.txt', '213.txt', '267.txt', '458.txt', '321.txt', '174.txt', '012.txt', '478.txt', '502.txt', '503.txt', '028.txt', '207.txt', '362.txt', '489.txt', '343.txt', '442.txt', '237.txt', '137.txt', '421.txt', '018.txt', '028.txt', '400.txt', '134.txt', '259.txt', '346.txt', '033.txt', '302.txt', '101.txt', '470.txt', '242.txt', '255.txt', '066.txt', '014.txt', '290.txt', '022.txt', '124.txt', '403.txt', '124.txt', '148.txt', '272.txt', '058.txt', '221.txt', '021.txt', '305.txt', '475.txt', '152.txt', '127.txt', '095.txt', '464.txt', '426.txt', '054.txt', '252.txt', '012.txt', '023.txt', '391.txt', '380.txt', '019.txt', '201.txt', '310.txt', '426.txt', '154.txt', '392.txt', '219.txt', '170.txt', '119.txt', '048.txt', '401.txt', '183.txt', '212.txt', '301.txt', '012.txt', '195.txt', '176.txt', '176.txt', '371.txt', '420.txt', '038.txt', '253.txt', '163.txt', '265.txt', '354.txt', '316.txt', '263.txt', '167.txt', '146.txt', '390.txt', '179.txt', '040.txt', '291.txt', '032.txt', '070.txt', '361.txt', '164.txt', '163.txt', '009.txt', '158.txt', '018.txt', '157.txt', '073.txt', '407.txt', '139.txt', '252.txt', '215.txt', '159.txt', '260.txt', '031.txt', '052.txt', '270.txt', '308.txt', '098.txt', '331.txt', '455.txt', '038.txt', '241.txt', '177.txt', '334.txt', '301.txt', '238.txt', '150.txt', '232.txt', '297.txt', '099.txt', '134.txt', '490.txt', '043.txt', '269.txt', '158.txt', '100.txt', '007.txt', '382.txt', '106.txt', '339.txt', '224.txt', '311.txt', '301.txt', '008.txt', '352.txt', '290.txt', '067.txt', '399.txt', '162.txt', '038.txt', '250.txt', '334.txt', '405.txt', '054.txt', '005.txt', '019.txt', '340.txt', '044.txt', '064.txt', '106.txt', '204.txt', '386.txt', '227.txt', '341.txt', '150.txt', '486.txt', '101.txt', '137.txt', '288.txt', '087.txt', '318.txt', '379.txt', '226.txt', '302.txt', '392.txt', '059.txt', '268.txt', '024.txt', '216.txt', '142.txt', '141.txt', '037.txt', '081.txt', '007.txt', '280.txt', '069.txt', '162.txt', '380.txt', '378.txt', '195.txt', '173.txt', '003.txt', '234.txt', '423.txt', '339.txt', '499.txt', '308.txt', '437.txt', '306.txt', '343.txt', '218.txt', '255.txt', '161.txt', '061.txt', '055.txt', '267.txt', '304.txt', '350.txt', '300.txt', '042.txt', '490.txt', '148.txt', '055.txt', '308.txt', '222.txt', '254.txt', '506.txt', '357.txt', '229.txt', '507.txt', '430.txt', '309.txt', '318.txt', '006.txt', '265.txt', '422.txt', '295.txt', '131.txt', '032.txt', '452.txt', '111.txt', '147.txt', '289.txt', '359.txt', '002.txt', '018.txt', '331.txt', '107.txt', '201.txt', '409.txt', '098.txt', '093.txt', '479.txt', '303.txt', '032.txt', '360.txt', '477.txt', '406.txt', '310.txt', '205.txt', '021.txt', '183.txt', '043.txt', '207.txt', '022.txt', '130.txt', '332.txt', '013.txt', '370.txt', '204.txt', '266.txt', '142.txt', '487.txt', '137.txt', '175.txt', '256.txt', '070.txt', '010.txt', '323.txt', '369.txt', '126.txt', '078.txt', '329.txt', '394.txt', '263.txt', '123.txt', '476.txt', '241.txt', '292.txt', '071.txt', '285.txt', '132.txt', '142.txt', '296.txt', '453.txt', '337.txt', '139.txt', '014.txt', '288.txt', '309.txt', '459.txt', '172.txt', '439.txt', '300.txt', '390.txt', '193.txt', '212.txt', '332.txt', '436.txt', '295.txt', '279.txt', '190.txt', '086.txt', '203.txt', '292.txt', '016.txt', '157.txt', '119.txt', '397.txt', '042.txt', '373.txt', '002.txt', '227.txt', '319.txt', '366.txt', '060.txt', '287.txt', '397.txt', '056.txt', '029.txt', '118.txt', '414.txt', '274.txt', '349.txt', '178.txt', '378.txt', '148.txt', '083.txt', '362.txt', '007.txt', '198.txt', '271.txt', '115.txt', '288.txt', '280.txt', '234.txt', '107.txt', '150.txt', '458.txt', '311.txt', '302.txt', '188.txt', '190.txt', '125.txt', '365.txt', '347.txt', '063.txt', '167.txt', '249.txt', '001.txt', '031.txt', '406.txt', '118.txt', '182.txt', '107.txt', '023.txt', '295.txt', '226.txt', '053.txt', '120.txt', '194.txt', '199.txt', '091.txt', '219.txt', '063.txt', '084.txt', '145.txt', '261.txt', '163.txt', '222.txt', '181.txt', '152.txt', '234.txt', '202.txt', '161.txt', '088.txt', '326.txt', '087.txt', '096.txt', '023.txt', '350.txt', '296.txt', '365.txt', '175.txt', '140.txt', '404.txt', '035.txt', '289.txt', '377.txt', '047.txt', '145.txt', '244.txt', '277.txt', '122.txt', '050.txt', '507.txt', '048.txt', '336.txt', '151.txt', '284.txt', '062.txt', '137.txt', '214.txt', '130.txt', '228.txt', '247.txt', '256.txt', '017.txt', '093.txt', '221.txt', '192.txt', '369.txt', '213.txt', '065.txt', '449.txt', '280.txt', '220.txt', '184.txt', '381.txt', '165.txt', '064.txt', '316.txt', '331.txt', '276.txt', '268.txt', '175.txt', '224.txt', '256.txt', '390.txt', '202.txt', '180.txt', '192.txt', '125.txt', '492.txt', '100.txt', '054.txt', '114.txt', '153.txt', '428.txt', '016.txt', '346.txt', '115.txt', '014.txt', '110.txt', '056.txt', '163.txt', '171.txt', '002.txt', '045.txt', '013.txt', '312.txt', '031.txt', '093.txt', '290.txt', '212.txt', '029.txt', '041.txt', '009.txt', '218.txt', '303.txt', '336.txt', '042.txt', '389.txt', '298.txt', '211.txt', '067.txt', '214.txt', '018.txt', '255.txt', '141.txt', '401.txt', '006.txt', '059.txt', '093.txt', '074.txt', '174.txt', '337.txt', '112.txt', '198.txt', '166.txt', '157.txt', '297.txt', '155.txt', '279.txt', '204.txt', '186.txt', '327.txt', '047.txt', '338.txt', '192.txt', '020.txt', '504.txt', '393.txt', '472.txt', '055.txt', '209.txt', '506.txt', '456.txt', '065.txt', '120.txt', '237.txt', '183.txt', '509.txt', '201.txt', '114.txt', '250.txt', '183.txt', '440.txt', '083.txt', '161.txt', '403.txt', '312.txt', '200.txt', '327.txt', '217.txt', '375.txt', '361.txt', '325.txt', '367.txt', '269.txt', '459.txt', '102.txt', '123.txt', '352.txt', '215.txt', '042.txt', '132.txt', '333.txt', '285.txt', '323.txt', '100.txt', '497.txt', '299.txt', '053.txt', '360.txt', '206.txt', '361.txt', '143.txt', '181.txt', '316.txt', '160.txt', '215.txt', '319.txt', '196.txt', '351.txt', '049.txt', '191.txt', '279.txt', '391.txt', '242.txt', '352.txt', '368.txt', '353.txt', '050.txt', '202.txt', '030.txt', '344.txt', '475.txt', '368.txt', '042.txt', '219.txt', '480.txt', '003.txt', '112.txt', '006.txt', '173.txt', '272.txt', '007.txt', '382.txt', '349.txt', '029.txt', '097.txt', '086.txt', '041.txt', '340.txt', '005.txt', '205.txt', '409.txt', '435.txt', '186.txt', '220.txt', '239.txt', '293.txt', '273.txt', '141.txt', '384.txt', '211.txt', '003.txt', '120.txt', '248.txt', '269.txt', '236.txt', '482.txt', '034.txt', '303.txt', '304.txt', '297.txt', '301.txt', '052.txt', '386.txt', '384.txt', '398.txt', '178.txt', '348.txt', '011.txt', '122.txt', '149.txt', '081.txt', '070.txt', '487.txt', '002.txt', '320.txt', '292.txt', '090.txt', '221.txt', '108.txt', '251.txt', '460.txt', '178.txt', '010.txt', '105.txt', '251.txt', '362.txt', '402.txt', '294.txt', '110.txt', '076.txt', '169.txt', '010.txt', '313.txt', '314.txt', '051.txt', '004.txt', '322.txt', '368.txt', '172.txt', '413.txt', '415.txt', '017.txt', '280.txt', '140.txt', '271.txt', '417.txt', '083.txt', '254.txt', '088.txt', '152.txt', '260.txt', '344.txt', '231.txt', '074.txt', '128.txt', '114.txt', '168.txt', '101.txt', '313.txt', '310.txt', '379.txt', '010.txt', '035.txt', '155.txt', '193.txt', '383.txt', '049.txt', '474.txt', '478.txt', '331.txt', '088.txt', '147.txt', '309.txt', '214.txt', '115.txt', '392.txt', '400.txt', '382.txt', '123.txt', '060.txt', '342.txt', '415.txt', '118.txt', '269.txt', '333.txt', '089.txt', '161.txt', '233.txt', '381.txt', '476.txt', '381.txt', '437.txt', '374.txt', '209.txt', '199.txt', '163.txt', '118.txt', '134.txt', '320.txt', '143.txt', '245.txt', '124.txt', '197.txt', '320.txt', '316.txt', '291.txt', '250.txt', '171.txt', '227.txt', '463.txt', '264.txt', '063.txt', '237.txt', '015.txt', '023.txt', '065.txt', '046.txt', '255.txt', '468.txt', '145.txt', '196.txt', '298.txt', '039.txt', '443.txt', '305.txt', '320.txt', '185.txt', '024.txt', '241.txt', '281.txt', '384.txt', '132.txt', '330.txt', '096.txt', '394.txt', '235.txt', '030.txt', '317.txt', '109.txt', '292.txt', '454.txt', '110.txt', '208.txt', '229.txt', '399.txt', '211.txt', '397.txt', '134.txt', '051.txt', '354.txt', '435.txt', '427.txt', '415.txt', '204.txt', '109.txt', '092.txt', '376.txt', '003.txt', '075.txt', '342.txt', '058.txt', '366.txt', '483.txt', '028.txt', '373.txt', '067.txt', '212.txt', '011.txt', '341.txt', '395.txt', '235.txt', '498.txt', '188.txt', '189.txt', '301.txt', '067.txt', '046.txt', '321.txt', '097.txt', '160.txt', '179.txt', '111.txt', '225.txt', '274.txt', '156.txt', '020.txt', '322.txt', '004.txt', '072.txt', '410.txt', '072.txt', '034.txt', '109.txt', '484.txt', '005.txt', '408.txt', '386.txt', '255.txt', '457.txt', '216.txt', '069.txt', '066.txt', '233.txt', '287.txt', '372.txt', '181.txt', '232.txt', '378.txt', '116.txt', '353.txt', '433.txt', '080.txt', '066.txt', '218.txt', '242.txt', '362.txt', '412.txt', '355.txt', '058.txt', '407.txt', '295.txt', '174.txt', '146.txt', '282.txt', '447.txt', '365.txt', '225.txt', '305.txt', '109.txt', '219.txt', '053.txt', '017.txt', '066.txt', '368.txt', '013.txt', '168.txt', '375.txt', '296.txt', '365.txt', '130.txt', '258.txt', '216.txt', '063.txt', '019.txt', '146.txt', '304.txt', '347.txt', '367.txt', '080.txt', '179.txt', '091.txt', '089.txt', '266.txt', '033.txt', '194.txt', '168.txt', '407.txt', '152.txt', '135.txt', '286.txt', '199.txt', '043.txt', '363.txt', '040.txt', '075.txt', '043.txt', '505.txt', '045.txt', '380.txt', '279.txt', '279.txt', '106.txt', '327.txt', '217.txt', '471.txt', '143.txt', '026.txt', '071.txt', '303.txt', '360.txt', '175.txt', '231.txt', '211.txt', '133.txt', '187.txt', '045.txt', '278.txt', '184.txt', '071.txt', '140.txt', '421.txt', '084.txt', '128.txt', '485.txt', '388.txt', '197.txt', '473.txt', '108.txt', '359.txt', '065.txt', '211.txt', '259.txt', '501.txt', '129.txt', '259.txt', '260.txt', '014.txt', '299.txt', '321.txt', '115.txt', '062.txt', '357.txt', '242.txt', '016.txt', '170.txt', '396.txt', '057.txt', '436.txt', '318.txt', '156.txt', '400.txt', '043.txt', '061.txt', '030.txt', '273.txt', '036.txt', '266.txt', '165.txt', '359.txt', '445.txt', '015.txt', '228.txt', '165.txt', '266.txt', '358.txt', '180.txt', '331.txt', '276.txt', '061.txt', '039.txt', '194.txt', '378.txt', '345.txt', '495.txt', '071.txt', '139.txt', '087.txt', '432.txt', '311.txt', '213.txt', '089.txt', '169.txt', '076.txt', '142.txt', '479.txt', '136.txt', '074.txt', '248.txt', '371.txt', '187.txt', '159.txt', '224.txt', '009.txt', '170.txt', '009.txt', '323.txt', '412.txt', '210.txt', '318.txt', '469.txt', '446.txt', '482.txt', '465.txt', '127.txt', '379.txt', '104.txt', '299.txt', '088.txt', '243.txt', '024.txt', '244.txt', '402.txt', '364.txt', '245.txt', '077.txt', '103.txt', '451.txt', '393.txt', '286.txt', '472.txt', '370.txt', '222.txt', '362.txt', '184.txt', '102.txt', '427.txt', '317.txt', '119.txt', '253.txt', '214.txt', '289.txt', '166.txt', '322.txt', '169.txt', '149.txt', '364.txt', '048.txt', '170.txt', '416.txt', '384.txt', '050.txt', '031.txt', '111.txt', '001.txt', '045.txt', '220.txt', '247.txt', '079.txt', '270.txt', '342.txt', '317.txt', '314.txt', '417.txt', '016.txt', '015.txt', '339.txt', '467.txt', '057.txt', '364.txt', '140.txt', '261.txt', '316.txt', '199.txt', '336.txt', '139.txt', '176.txt', '084.txt', '351.txt', '084.txt', '075.txt', '193.txt', '441.txt', '351.txt', '024.txt', '276.txt', '099.txt', '372.txt', '206.txt', '329.txt', '299.txt', '162.txt', '361.txt', '019.txt', '147.txt', '251.txt', '287.txt', '349.txt', '335.txt', '353.txt', '370.txt', '444.txt', '473.txt', '055.txt', '132.txt', '144.txt', '440.txt', '340.txt', '387.txt', '477.txt', '009.txt', '344.txt', '324.txt', '208.txt', '078.txt', '104.txt', '417.txt', '189.txt', '275.txt', '298.txt', '074.txt', '280.txt', '166.txt', '321.txt', '012.txt', '148.txt', '350.txt', '396.txt', '372.txt', '276.txt', '018.txt', '508.txt', '273.txt', '396.txt', '116.txt', '186.txt', '008.txt', '252.txt', '020.txt', '264.txt', '288.txt', '337.txt', '274.txt', '384.txt', '245.txt', '356.txt', '262.txt', '146.txt', '052.txt', '049.txt', '494.txt', '092.txt', '350.txt', '173.txt', '226.txt', '098.txt', '140.txt', '102.txt', '239.txt', '098.txt', '270.txt', '467.txt', '112.txt', '325.txt', '184.txt', '269.txt', '373.txt', '104.txt', '078.txt', '334.txt', '095.txt', '082.txt', '485.txt', '398.txt', '474.txt', '056.txt', '404.txt', '143.txt', '089.txt', '039.txt', '396.txt', '067.txt', '062.txt', '068.txt', '119.txt', '039.txt', '262.txt', '395.txt', '045.txt', '183.txt', '090.txt', '357.txt', '099.txt', '123.txt', '240.txt', '328.txt', '079.txt', '413.txt', '120.txt', '243.txt', '234.txt', '242.txt', '036.txt', '375.txt', '281.txt', '172.txt', '230.txt', '096.txt', '053.txt', '263.txt', '220.txt', '411.txt', '261.txt', '126.txt', '329.txt', '194.txt', '195.txt', '296.txt', '358.txt', '401.txt', '259.txt', '383.txt', '319.txt', '371.txt', '032.txt', '213.txt', '062.txt', '008.txt', '423.txt', '037.txt', '189.txt', '172.txt', '379.txt', '010.txt', '317.txt', '343.txt', '124.txt', '283.txt', '365.txt', '151.txt', '022.txt', '256.txt', '159.txt', '153.txt', '041.txt', '231.txt', '006.txt', '241.txt', '177.txt', '306.txt', '381.txt', '264.txt', '355.txt', '393.txt', '278.txt', '102.txt', '046.txt', '294.txt', '195.txt', '191.txt', '330.txt', '368.txt', '218.txt', '166.txt', '057.txt', '217.txt', '196.txt', '289.txt', '014.txt', '117.txt', '496.txt', '250.txt', '159.txt', '281.txt', '184.txt', '394.txt', '367.txt', '233.txt', '229.txt', '017.txt', '418.txt', '335.txt', '233.txt', '080.txt', '319.txt', '493.txt', '274.txt', '338.txt', '136.txt', '030.txt', '315.txt', '059.txt', '223.txt', '273.txt', '197.txt', '366.txt', '377.txt', '129.txt', '414.txt', '083.txt', '206.txt', '198.txt', '162.txt', '283.txt', '060.txt', '060.txt', '128.txt', '252.txt', '501.txt', '136.txt', '404.txt', '151.txt', '347.txt', '341.txt', '395.txt', '063.txt', '238.txt', '209.txt', '497.txt', '353.txt', '096.txt', '166.txt', '064.txt', '144.txt', '286.txt', '287.txt', '186.txt', '197.txt', '342.txt', '275.txt', '237.txt', '223.txt', '268.txt', '346.txt', '121.txt', '079.txt', '050.txt', '333.txt', '191.txt', '264.txt', '194.txt', '236.txt', '182.txt', '141.txt', '390.txt', '073.txt', '375.txt', '160.txt', '431.txt', '203.txt', '319.txt', '371.txt', '094.txt', '173.txt', '082.txt', '332.txt', '105.txt', '391.txt', '135.txt', '267.txt', '167.txt', '373.txt', '036.txt', '247.txt', '192.txt', '106.txt', '457.txt', '129.txt', '121.txt', '174.txt', '021.txt', '361.txt', '243.txt', '051.txt', '291.txt', '020.txt', '442.txt', '198.txt', '272.txt', '425.txt', '313.txt', '302.txt', '173.txt', '285.txt', '363.txt', '025.txt', '121.txt', '484.txt', '225.txt', '339.txt', '345.txt', '307.txt', '243.txt', '382.txt', '027.txt', '189.txt', '090.txt', '272.txt', '168.txt', '422.txt', '226.txt', '013.txt', '004.txt', '197.txt', '091.txt', '025.txt', '178.txt', '092.txt', '348.txt', '367.txt', '084.txt', '387.txt', '268.txt', '305.txt', '344.txt', '069.txt', '290.txt', '029.txt', '171.txt', '337.txt', '358.txt', '491.txt', '075.txt', '006.txt', '414.txt', '086.txt', '200.txt', '052.txt', '180.txt', '110.txt', '205.txt', '117.txt', '294.txt', '205.txt', '177.txt', '134.txt', '263.txt', '188.txt', '383.txt', '044.txt', '113.txt', '154.txt', '158.txt', '410.txt', '127.txt', '116.txt', '289.txt', '377.txt', '236.txt', '286.txt', '338.txt', '453.txt', '348.txt', '117.txt', '208.txt', '047.txt', '238.txt', '446.txt', '244.txt', '463.txt', '164.txt', '259.txt', '151.txt', '306.txt', '144.txt', '425.txt', '326.txt', '155.txt', '351.txt', '448.txt', '323.txt', '146.txt', '326.txt', '412.txt', '254.txt', '388.txt', '057.txt', '443.txt', '025.txt', '245.txt', '139.txt', '452.txt', '299.txt', '190.txt', '271.txt', '262.txt', '230.txt', '321.txt', '207.txt', '055.txt', '124.txt', '089.txt', '058.txt', '397.txt', '101.txt', '097.txt', '248.txt', '260.txt', '282.txt', '032.txt', '358.txt', '231.txt', '022.txt', '410.txt', '257.txt', '393.txt', '251.txt', '372.txt', '496.txt', '164.txt', '162.txt', '271.txt', '336.txt', '001.txt', '345.txt', '041.txt', '238.txt', '091.txt', '360.txt', '095.txt', '352.txt', '315.txt', '118.txt', '007.txt', '294.txt', '347.txt', '300.txt', '367.txt', '191.txt', '468.txt', '079.txt', '200.txt', '449.txt', '322.txt', '122.txt', '187.txt', '284.txt', '235.txt', '115.txt', '249.txt', '126.txt', '116.txt', '168.txt', '195.txt', '339.txt', '271.txt', '338.txt', '096.txt', '175.txt', '273.txt', '307.txt', '186.txt', '416.txt', '101.txt', '375.txt', '121.txt', '232.txt', '335.txt', '315.txt', '193.txt', '325.txt', '324.txt', '349.txt', '103.txt', '085.txt', '044.txt', '021.txt', '262.txt', '170.txt', '239.txt', '335.txt', '374.txt', '230.txt', '450.txt', '439.txt', '106.txt', '131.txt', '105.txt', '306.txt', '489.txt', '285.txt', '103.txt', '180.txt', '314.txt', '066.txt', '210.txt', '461.txt', '151.txt', '086.txt', '250.txt', '347.txt', '076.txt', '399.txt', '418.txt', '077.txt', '169.txt', '334.txt', '210.txt', '498.txt', '228.txt', '193.txt', '388.txt', '376.txt', '080.txt', '314.txt', '070.txt', '405.txt', '420.txt', '113.txt', '434.txt', '159.txt', '153.txt', '261.txt', '174.txt', '181.txt', '318.txt', '429.txt', '491.txt', '244.txt', '033.txt', '209.txt', '283.txt', '232.txt', '225.txt', '022.txt', '126.txt', '229.txt', '500.txt', '203.txt', '218.txt', '262.txt', '182.txt', '495.txt', '001.txt', '270.txt', '395.txt', '104.txt', '188.txt', '278.txt', '231.txt', '031.txt', '236.txt', '203.txt', '357.txt', '099.txt', '352.txt', '104.txt', '328.txt', '103.txt', '035.txt', '332.txt', '187.txt', '214.txt', '398.txt', '264.txt', '343.txt', '247.txt', '073.txt', '314.txt', '389.txt', '359.txt', '011.txt', '216.txt', '149.txt', '330.txt', '366.txt', '249.txt', '227.txt', '027.txt', '327.txt', '110.txt', '129.txt', '445.txt', '171.txt', '051.txt', '355.txt', '004.txt', '135.txt', '328.txt', '356.txt', '293.txt', '189.txt', '153.txt', '237.txt', '304.txt', '370.txt', '357.txt', '180.txt', '355.txt', '354.txt', '227.txt', '081.txt', '403.txt', '340.txt', '131.txt', '246.txt', '094.txt', '156.txt', '394.txt', '455.txt', '064.txt', '267.txt', '095.txt', '072.txt', '238.txt', '141.txt', '113.txt', '386.txt', '108.txt', '325.txt', '244.txt', '068.txt', '127.txt', '388.txt', '113.txt', '239.txt', '433.txt', '116.txt', '204.txt', '342.txt', '185.txt', '138.txt', '114.txt', '149.txt', '008.txt', '503.txt', '345.txt', '052.txt', '122.txt', '300.txt', '034.txt', '191.txt', '392.txt', '408.txt', '188.txt', '358.txt', '065.txt', '500.txt', '154.txt', '278.txt', '254.txt', '344.txt', '306.txt', '109.txt', '103.txt', '094.txt', '281.txt', '154.txt', '461.txt', '373.txt', '185.txt', '401.txt', '284.txt', '185.txt', '469.txt', '167.txt', '338.txt', '486.txt', '451.txt', '488.txt', '505.txt', '025.txt', '121.txt', '432.txt', '008.txt', '125.txt', '360.txt', '391.txt', '041.txt', '039.txt', '380.txt', '493.txt', '012.txt', '156.txt', '235.txt', '050.txt', '282.txt', '164.txt', '348.txt', '378.txt', '337.txt', '060.txt', '223.txt', '329.txt', '182.txt', '202.txt', '270.txt', '450.txt', '346.txt', '091.txt', '293.txt', '286.txt', '220.txt', '024.txt', '027.txt', '438.txt', '382.txt', '275.txt', '002.txt', '085.txt', '277.txt', '364.txt', '230.txt', '310.txt', '348.txt', '145.txt', '111.txt', '021.txt', '077.txt', '411.txt', '046.txt', '349.txt', '172.txt', '133.txt', '268.txt', '464.txt', '336.txt', '265.txt', '333.txt', '229.txt', '144.txt', '064.txt', '138.txt', '086.txt', '381.txt', '356.txt', '246.txt', '036.txt', '405.txt', '413.txt', '471.txt', '494.txt', '138.txt', '291.txt', '282.txt', '037.txt', '223.txt', '206.txt', '323.txt', '056.txt', '343.txt', '249.txt', '305.txt', '026.txt', '142.txt', '226.txt', '456.txt', '075.txt', '148.txt', '161.txt', '216.txt', '241.txt', '092.txt', '222.txt', '350.txt', '057.txt', '210.txt', '019.txt', '324.txt', '320.txt', '119.txt', '248.txt', '097.txt', '165.txt', '107.txt', '145.txt', '287.txt', '354.txt', '108.txt', '207.txt', '252.txt', '330.txt', '481.txt', '499.txt', '058.txt', '324.txt', '117.txt', '240.txt', '094.txt', '300.txt', '434.txt', '212.txt', '044.txt', '351.txt', '275.txt', '072.txt', '201.txt', '369.txt', '126.txt', '374.txt', '263.txt', '377.txt', '053.txt', '355.txt', '335.txt', '034.txt', '256.txt', '376.txt', '047.txt', '013.txt', '069.txt', '070.txt', '005.txt', '510.txt', '341.txt', '222.txt', '402.txt', '147.txt', '001.txt', '465.txt', '158.txt', '510.txt', '243.txt', '294.txt', '509.txt', '072.txt', '324.txt', '249.txt', '177.txt', '295.txt', '085.txt', '169.txt', '059.txt', '088.txt', '371.txt', '080.txt', '313.txt', '130.txt', '190.txt', '137.txt', '158.txt', '307.txt', '383.txt', '150.txt', '385.txt', '198.txt', '291.txt', '171.txt', '480.txt', '037.txt', '258.txt', '233.txt', '136.txt', '034.txt', '217.txt', '330.txt', '356.txt', '190.txt', '135.txt', '200.txt', '430.txt', '511.txt', '483.txt', '147.txt', '221.txt', '298.txt', '298.txt', '253.txt', '277.txt', '302.txt', '308.txt', '312.txt', '346.txt', '251.txt', '296.txt', '114.txt', '133.txt', '406.txt', '267.txt', '328.txt', '127.txt', '438.txt', '292.txt', '199.txt', '428.txt', '112.txt', '068.txt', '025.txt', '217.txt', '087.txt', '258.txt', '167.txt', '208.txt', '082.txt', '281.txt', '408.txt', '040.txt', '016.txt', '470.txt', '038.txt', '219.txt', '033.txt', '073.txt', '307.txt', '157.txt', '246.txt', '090.txt', '061.txt', '176.txt', '026.txt', '239.txt', '030.txt', '240.txt', '334.txt', '333.txt', '125.txt', '240.txt', '181.txt', '377.txt', '122.txt', '098.txt', '040.txt', '081.txt', '076.txt', '095.txt', '261.txt', '128.txt', '409.txt', '313.txt', '083.txt', '266.txt', '303.txt', '276.txt', '257.txt', '311.txt', '257.txt', '209.txt', '308.txt', '236.txt', '363.txt', '087.txt', '123.txt', '210.txt', '143.txt', '164.txt', '036.txt', '131.txt', '411.txt', '248.txt', '059.txt', '046.txt', '107.txt', '224.txt', '202.txt', '200.txt', '369.txt', '078.txt', '322.txt', '307.txt', '131.txt', '004.txt', '082.txt', '257.txt', '160.txt', '387.txt', '293.txt', '017.txt', '051.txt', '054.txt', '374.txt', '372.txt', '272.txt', '201.txt', '309.txt', '077.txt', '260.txt', '213.txt', '376.txt', '176.txt', '265.txt', '325.txt', '085.txt', '277.txt', '097.txt', '092.txt', '431.txt', '282.txt', '033.txt', '258.txt', '379.txt', '154.txt', '329.txt', '389.txt', '274.txt', '247.txt', '102.txt', '133.txt', '369.txt', '353.txt', '293.txt', '253.txt', '312.txt', '152.txt', '205.txt', '035.txt', '130.txt', '424.txt', '150.txt', '288.txt', '385.txt', '185.txt', '100.txt', '048.txt', '223.txt', '246.txt', '081.txt', '340.txt', '117.txt', '297.txt', '028.txt', '389.txt', '312.txt', '196.txt', '005.txt', '466.txt', '278.txt', '138.txt', '419.txt', '254.txt', '326.txt', '341.txt']\n"
          ]
        }
      ]
    },
    {
      "cell_type": "markdown",
      "metadata": {
        "id": "EmNyFX8QTMtC"
      },
      "source": [
        "## Step 3: Plot the distribution of the instances in each class and save the graphic in a file called BBC-distribution.pdf. (Task 1.2)"
      ]
    },
    {
      "cell_type": "markdown",
      "metadata": {
        "id": "o4z_lxBk9AdY"
      },
      "source": [
        "### Create Dataframe"
      ]
    },
    {
      "cell_type": "code",
      "metadata": {
        "id": "_2PVDcEQ9Bhn",
        "colab": {
          "base_uri": "https://localhost:8080/",
          "height": 80
        },
        "outputId": "d0adb269-3f4f-4797-cd18-a5d59cfd1a89"
      },
      "source": [
        "import pandas as pd\n",
        "import numpy as np\n",
        "\n",
        "allBBC_DF = pd.DataFrame({\n",
        "    'Business':businessDataSize,\n",
        "    'Entertainment':entertainmentDataSize,\n",
        "    'Politics':politicsDataSize,\n",
        "    'Sport':sportDataSize,\n",
        "    'Tech':techDataSize\n",
        "    },\n",
        "    index=['Records Count']\n",
        "    )\n",
        "\n",
        "allBBC_DF"
      ],
      "execution_count": null,
      "outputs": [
        {
          "output_type": "execute_result",
          "data": {
            "text/html": [
              "<div>\n",
              "<style scoped>\n",
              "    .dataframe tbody tr th:only-of-type {\n",
              "        vertical-align: middle;\n",
              "    }\n",
              "\n",
              "    .dataframe tbody tr th {\n",
              "        vertical-align: top;\n",
              "    }\n",
              "\n",
              "    .dataframe thead th {\n",
              "        text-align: right;\n",
              "    }\n",
              "</style>\n",
              "<table border=\"1\" class=\"dataframe\">\n",
              "  <thead>\n",
              "    <tr style=\"text-align: right;\">\n",
              "      <th></th>\n",
              "      <th>Business</th>\n",
              "      <th>Entertainment</th>\n",
              "      <th>Politics</th>\n",
              "      <th>Sport</th>\n",
              "      <th>Tech</th>\n",
              "    </tr>\n",
              "  </thead>\n",
              "  <tbody>\n",
              "    <tr>\n",
              "      <th>Records Count</th>\n",
              "      <td>510</td>\n",
              "      <td>386</td>\n",
              "      <td>417</td>\n",
              "      <td>511</td>\n",
              "      <td>401</td>\n",
              "    </tr>\n",
              "  </tbody>\n",
              "</table>\n",
              "</div>"
            ],
            "text/plain": [
              "               Business  Entertainment  Politics  Sport  Tech\n",
              "Records Count       510            386       417    511   401"
            ]
          },
          "metadata": {},
          "execution_count": 70
        }
      ]
    },
    {
      "cell_type": "markdown",
      "metadata": {
        "id": "33NCdewfToqD"
      },
      "source": [
        "### Plot the distribution of the instances in each class"
      ]
    },
    {
      "cell_type": "code",
      "metadata": {
        "colab": {
          "base_uri": "https://localhost:8080/",
          "height": 390
        },
        "id": "cyGra8fM9RIp",
        "outputId": "8217aaee-2077-4cd8-8690-7f63d74600dc"
      },
      "source": [
        "import matplotlib.pyplot as plt\n",
        "%matplotlib inline\n",
        "\n",
        "sp = allBBC_DF.loc['Records Count'].plot(by=allBBCData.target_names,title='Records Count',figsize=(12,6),kind='barh')"
      ],
      "execution_count": null,
      "outputs": [
        {
          "output_type": "display_data",
          "data": {
            "image/png": "[encoded data removed]",
            "text/plain": [
              "<Figure size 864x432 with 1 Axes>"
            ]
          },
          "metadata": {
            "needs_background": "light"
          }
        }
      ]
    },
    {
      "cell_type": "markdown",
      "metadata": {
        "id": "sj5dugf0T3TC"
      },
      "source": [
        "### Save the graphic in a file called BBC-distribution.pdf"
      ]
    },
    {
      "cell_type": "code",
      "metadata": {
        "id": "nySkQ3sOmRrZ"
      },
      "source": [
        "fig = sp.get_figure()\n",
        "fig.savefig('BBC-distribution.pdf')"
      ],
      "execution_count": null,
      "outputs": []
    },
    {
      "cell_type": "markdown",
      "metadata": {
        "id": "i4j7a9t7eixZ"
      },
      "source": [
        "## Step 4: Pre-process the dataset to have the features ready to be used by a multinomial Naive Bayes classifier. (Task 1.4)"
      ]
    },
    {
      "cell_type": "markdown",
      "metadata": {
        "id": "t6MO27Crewuv"
      },
      "source": [
        "### Prepare the vectorizer"
      ]
    },
    {
      "cell_type": "code",
      "metadata": {
        "id": "q3HPS0BwfEhF"
      },
      "source": [
        "from sklearn.feature_extraction.text import CountVectorizer\n",
        "vectorizer = CountVectorizer()\n",
        "\n",
        "def get_matrix_and_vocabulary(data):\n",
        "  return vectorizer.fit_transform(data).toarray(), {k: v for k, v in sorted(vectorizer.vocabulary_.items(), key=lambda item: item[1])}"
      ],
      "execution_count": null,
      "outputs": []
    },
    {
      "cell_type": "markdown",
      "metadata": {
        "id": "KXHFH2z1lxtZ"
      },
      "source": [
        "### Extract matrices"
      ]
    },
    {
      "cell_type": "code",
      "metadata": {
        "id": "cy3LQrTql5VH"
      },
      "source": [
        "# Not sure if I'm doing things right here!\n",
        "allBBCMatrix,allBBCVocab = get_matrix_and_vocabulary(allBBCFiles.data)\n",
        "businessMatrix,businessVocab =  get_matrix_and_vocabulary(businessFiles.data)\n",
        "entertainmentMatrix,entertainmentVocab = get_matrix_and_vocabulary(entertainmentFiles.data)\n",
        "politicsMatrix,politicsVocab = get_matrix_and_vocabulary(politicsFiles.data)\n",
        "sportMatrix,sportVocab= get_matrix_and_vocabulary(sportFiles.data)\n",
        "techMatrix,techVocab = get_matrix_and_vocabulary(techFiles.data)"
      ],
      "execution_count": null,
      "outputs": []
    },
    {
      "cell_type": "markdown",
      "metadata": {
        "id": "vEIpnWx-w2RG"
      },
      "source": [
        "## Step 5: Split the dataset into 80% for training and 20% for testing. (Task 1.5)"
      ]
    },
    {
      "cell_type": "code",
      "metadata": {
        "colab": {
          "base_uri": "https://localhost:8080/",
          "height": 35
        },
        "id": "fP7lMSiFbhtM",
        "outputId": "5c211a7e-006e-4b95-c38d-1971c90aeb87"
      },
      "source": [
        "from sklearn.model_selection import train_test_split\n",
        "\n",
        "x_train, x_test, y_train, y_test = train_test_split(allBBCData.filenames,allBBCMatrix, test_size=0.2)"
      ],
      "execution_count": null,
      "outputs": [
        {
          "output_type": "execute_result",
          "data": {
            "application/vnd.google.colaboratory.intrinsic+json": {
              "type": "string"
            },
            "text/plain": [
              "'385.txt'"
            ]
          },
          "metadata": {},
          "execution_count": 105
        }
      ]
    },
    {
      "cell_type": "markdown",
      "metadata": {
        "id": "hoDghks1w-s8"
      },
      "source": [
        "## Step 6: Train a multinomial Naive Bayes Classifier on the training set using the default parameters and evaluate it on the test set. (Task 1.6)"
      ]
    },
    {
      "cell_type": "markdown",
      "metadata": {
        "id": "R52xhrhP3wJ4"
      },
      "source": [
        "### Prepare the MultinomialNB classifier"
      ]
    },
    {
      "cell_type": "code",
      "metadata": {
        "id": "MMZPpHjWzOYX"
      },
      "source": [
        "from sklearn.naive_bayes import MultinomialNB\n",
        "\n",
        "clf = MultinomialNB()"
      ],
      "execution_count": null,
      "outputs": []
    },
    {
      "cell_type": "markdown",
      "metadata": {
        "id": "JwNTdMt6y4gs"
      },
      "source": [
        "### Train a multinomial Naive Bayes Classifier"
      ]
    },
    {
      "cell_type": "markdown",
      "metadata": {
        "id": "JSsnqOKZzAFE"
      },
      "source": [
        "### Evaluate the classifier on the test set\n",
        "\n"
      ]
    },
    {
      "cell_type": "markdown",
      "metadata": {
        "id": "ZArXy9jErxHf"
      },
      "source": [
        "#**Task 2: Drug Classification**"
      ]
    }
  ]
}