{
 "nbformat": 4,
 "nbformat_minor": 0,
 "metadata": {
  "colab": {
   "name": "Copy of Mini_Project_1.ipynb",
   "provenance": [
    {
     "file_id": "129NFVM56JTk53RtumEg1uq1Gqv1nD585",
     "timestamp": 1632259093165
    }
   ],
   "collapsed_sections": []
  },
  "kernelspec": {
   "name": "pycharm-180d1f03",
   "language": "python",
   "display_name": "PyCharm (Mini Project 1)"
  },
  "language_info": {
   "name": "python"
  }
 },
 "cells": [
  {
   "cell_type": "markdown",
   "metadata": {
    "id": "OVuTabWXoTss"
   },
   "source": [
    "## Step 1: Load the corpus using load files and make sure you set the encoding to latin1. (Task 1.3)"
   ]
  },
  {
   "cell_type": "markdown",
   "metadata": {
    "id": "nytdwd5yqlEy"
   },
   "source": [
    "### Get and group the data"
   ]
  },
  {
   "cell_type": "code",
   "metadata": {
    "id": "VaUqx3yLrIt1",
    "colab": {
     "base_uri": "https://localhost:8080/"
    },
    "executionInfo": {
     "status": "ok",
     "timestamp": 1632255366981,
     "user_tz": 240,
     "elapsed": 192,
     "user": {
      "displayName": "Ebraheem Al Shapi",
      "photoUrl": "https://lh3.googleusercontent.com/a-/AOh14GiJ01BYJAFuUR9CyAFQGAhtsyoXI29CBA4HTAnS-Yg=s64",
      "userId": "03680136128279319983"
     }
    },
    "outputId": "38085c33-bc67-43b8-9cc7-3986fa71afae",
    "pycharm": {
     "name": "#%%\n"
    }
   },
   "source": [
    "import sklearn.datasets\n",
    "\n",
    "\n",
    "def load_files_of_bbc(category=None):\n",
    "    \"\"\"\n",
    "    Gets the corpus of data\n",
    "    :param category: The category/class of the the instance\n",
    "    :return: The corpus, the length and list of file names\n",
    "    \"\"\"\n",
    "    files_load = sklearn.datasets.load_files('../data/BBC', description=\"\"\"\n",
    "     D. Greene and P. Cunningham. \"Practical Solutions to the Problem of Diagonal Dominance in Kernel Document Clustering\", Proc. ICML 2006.6\n",
    "     \"\"\", categories=category, encoding='latin1')\n",
    "    length = len(files_load.data)\n",
    "    files_names = [fp[fp.find(\"\\\\\")+1:] for fp in files_load.filenames]\n",
    "    return files_load, length,files_names\n",
    "\n",
    "\n",
    "#all BBC data and size\n",
    "allBBCFiles, allBBCDataSize, allBBC_filenames = load_files_of_bbc()\n",
    "\n",
    "# #BBC business Data and size\n",
    "businessFiles, businessDataSize, business_filenames = load_files_of_bbc('business')\n",
    "\n",
    "# #BBC entertainment Data and size\n",
    "entertainmentFiles, entertainmentDataSize, entertainment_filenames = load_files_of_bbc('entertainment')\n",
    "\n",
    "# #BBC politics Data and size\n",
    "politicsFiles, politicsDataSize, politics_filenames = load_files_of_bbc('politics')\n",
    "\n",
    "# #BBC sport Data and size\n",
    "sportFiles, sportDataSize, sport_filenames = load_files_of_bbc('sport')\n",
    "\n",
    "# #BBC tech Data\n",
    "techFiles, techDataSize, tech_filenames = load_files_of_bbc('tech')"
   ],
   "execution_count": 237,
   "outputs": []
  }
 ]
}