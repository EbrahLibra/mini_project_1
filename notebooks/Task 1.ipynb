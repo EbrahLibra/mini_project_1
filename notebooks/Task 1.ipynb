{
 "nbformat": 4,
 "nbformat_minor": 0,
 "metadata": {
  "colab": {
   "name": "Copy of Mini_Project_1.ipynb",
   "provenance": [
    {
     "file_id": "129NFVM56JTk53RtumEg1uq1Gqv1nD585",
     "timestamp": 1632259093165
    }
   ],
   "collapsed_sections": []
  },
  "kernelspec": {
   "name": "pycharm-180d1f03",
   "language": "python",
   "display_name": "PyCharm (Mini Project 1)"
  },
  "language_info": {
   "name": "python"
  }
 },
 "cells": [
  {
   "cell_type": "markdown",
   "metadata": {
    "id": "OVuTabWXoTss"
   },
   "source": [
    "## Step 1: Load the corpus using load files and make sure you set the encoding to latin1. (Task 1.3)"
   ]
  },
  {
   "cell_type": "markdown",
   "metadata": {
    "id": "nytdwd5yqlEy"
   },
   "source": [
    "### Get and group the data"
   ]
  },
  {
   "cell_type": "code",
   "metadata": {
    "id": "VaUqx3yLrIt1",
    "colab": {
     "base_uri": "https://localhost:8080/"
    },
    "executionInfo": {
     "status": "ok",
     "timestamp": 1632255366981,
     "user_tz": 240,
     "elapsed": 192,
     "user": {
      "displayName": "Ebraheem Al Shapi",
      "photoUrl": "https://lh3.googleusercontent.com/a-/AOh14GiJ01BYJAFuUR9CyAFQGAhtsyoXI29CBA4HTAnS-Yg=s64",
      "userId": "03680136128279319983"
     }
    },
    "outputId": "38085c33-bc67-43b8-9cc7-3986fa71afae",
    "pycharm": {
     "name": "#%%\n"
    }
   },
   "source": [
    "import sklearn.datasets\n",
    "\n",
    "\n",
    "def load_files_of_bbc(category=None):\n",
    "    \"\"\"\n",
    "    Gets the corpus of data\n",
    "    :param category: The category/class of the the instance\n",
    "    :return: The corpus, the length and list of file names\n",
    "    \"\"\"\n",
    "    files_load = sklearn.datasets.load_files('../data/BBC', description=\"\"\"\n",
    "     D. Greene and P. Cunningham. \"Practical Solutions to the Problem of Diagonal Dominance in Kernel Document Clustering\", Proc. ICML 2006.6\n",
    "     \"\"\", categories=category, encoding='latin1')\n",
    "    length = len(files_load.data)\n",
    "    files_names = [fp[fp.find(\"\\\\\")+1:] for fp in files_load.filenames]\n",
    "    return files_load, length,files_names\n",
    "\n",
    "\n",
    "#all BBC data and size\n",
    "allBBCFiles, allBBCDataSize, allBBC_filenames = load_files_of_bbc()\n",
    "\n",
    "# #BBC business Data and size\n",
    "businessFiles, businessDataSize, business_filenames = load_files_of_bbc('business')\n",
    "\n",
    "# #BBC entertainment Data and size\n",
    "entertainmentFiles, entertainmentDataSize, entertainment_filenames = load_files_of_bbc('entertainment')\n",
    "\n",
    "# #BBC politics Data and size\n",
    "politicsFiles, politicsDataSize, politics_filenames = load_files_of_bbc('politics')\n",
    "\n",
    "# #BBC sport Data and size\n",
    "sportFiles, sportDataSize, sport_filenames = load_files_of_bbc('sport')\n",
    "\n",
    "# #BBC tech Data\n",
    "techFiles, techDataSize, tech_filenames = load_files_of_bbc('tech')"
   ],
   "execution_count": 1,
   "outputs": []
  },
  {
   "cell_type": "markdown",
   "source": [
    "## Step 2: Plot the distribution of the instances in each class and save the graphic in a file called BBC-distribution.pdf. (Task 1.2)"
   ],
   "metadata": {
    "collapsed": false
   }
  },
  {
   "cell_type": "markdown",
   "source": [
    "### Create Dataframe"
   ],
   "metadata": {
    "collapsed": false
   }
  },
  {
   "cell_type": "code",
   "execution_count": 2,
   "outputs": [
    {
     "data": {
      "text/plain": "               Business  Entertainment  Politics  Sport  Tech\nRecords Count       510            386       417    511   401",
      "text/html": "<div>\n<style scoped>\n    .dataframe tbody tr th:only-of-type {\n        vertical-align: middle;\n    }\n\n    .dataframe tbody tr th {\n        vertical-align: top;\n    }\n\n    .dataframe thead th {\n        text-align: right;\n    }\n</style>\n<table border=\"1\" class=\"dataframe\">\n  <thead>\n    <tr style=\"text-align: right;\">\n      <th></th>\n      <th>Business</th>\n      <th>Entertainment</th>\n      <th>Politics</th>\n      <th>Sport</th>\n      <th>Tech</th>\n    </tr>\n  </thead>\n  <tbody>\n    <tr>\n      <th>Records Count</th>\n      <td>510</td>\n      <td>386</td>\n      <td>417</td>\n      <td>511</td>\n      <td>401</td>\n    </tr>\n  </tbody>\n</table>\n</div>"
     },
     "execution_count": 2,
     "metadata": {},
     "output_type": "execute_result"
    }
   ],
   "source": [
    "import pandas as pd\n",
    "\n",
    "allBBC_DF = pd.DataFrame({\n",
    "    'Business': businessDataSize,\n",
    "    'Entertainment': entertainmentDataSize,\n",
    "    'Politics': politicsDataSize,\n",
    "    'Sport': sportDataSize,\n",
    "    'Tech': techDataSize\n",
    "},\n",
    "    index=['Records Count']\n",
    ")\n",
    "\n",
    "allBBC_DF"
   ],
   "metadata": {
    "collapsed": false,
    "pycharm": {
     "name": "#%%\n"
    }
   }
  },
  {
   "cell_type": "markdown",
   "source": [
    "### Plot the distribution of the instances in each class"
   ],
   "metadata": {
    "collapsed": false
   }
  },
  {
   "cell_type": "code",
   "execution_count": 5,
   "outputs": [
    {
     "data": {
      "text/plain": "<Figure size 864x432 with 1 Axes>",
      "image/png": "[encoded data removed]"
     },
     "metadata": {
      "needs_background": "light"
     },
     "output_type": "display_data"
    }
   ],
   "source": [
    "%matplotlib inline\n",
    "\n",
    "sp = allBBC_DF.loc['Records Count'].plot(by=allBBCFiles.target_names, title='Records Count', figsize=(12, 6),\n",
    "                                         kind='barh')"
   ],
   "metadata": {
    "collapsed": false,
    "pycharm": {
     "name": "#%%\n"
    }
   }
  },
  {
   "cell_type": "markdown",
   "source": [
    "### Save the graphic in a file called BBC-distribution.pdf"
   ],
   "metadata": {
    "collapsed": false
   }
  },
  {
   "cell_type": "code",
   "execution_count": null,
   "outputs": [],
   "source": [
    "fig = sp.get_figure()\n",
    "fig.savefig('../out/BBC-distribution.pdf')"
   ],
   "metadata": {
    "collapsed": false,
    "pycharm": {
     "name": "#%%\n"
    }
   }
  },
  {
   "cell_type": "markdown",
   "source": [
    "## Step 3: Pre-process the dataset to have the features ready to be used by a multinomial Naive Bayes classifier. (Task 1.4)"
   ],
   "metadata": {
    "collapsed": false
   }
  },
  {
   "cell_type": "markdown",
   "source": [
    "### Prepare the vectorizer"
   ],
   "metadata": {
    "collapsed": false
   }
  },
  {
   "cell_type": "code",
   "execution_count": null,
   "outputs": [],
   "source": [
    "from sklearn.feature_extraction.text import CountVectorizer\n",
    "\n",
    "vectorizer = CountVectorizer()\n",
    "\n",
    "\n",
    "def get_matrix_and_vocabulary(data):\n",
    "    return vectorizer.fit_transform(data).toarray(), {k: v for k, v in\n",
    "                                                      sorted(vectorizer.vocabulary_.items(), key=lambda item: item[1])}"
   ],
   "metadata": {
    "collapsed": false,
    "pycharm": {
     "name": "#%%\n"
    }
   }
  },
  {
   "cell_type": "markdown",
   "source": [
    "### Extract matrices"
   ],
   "metadata": {
    "collapsed": false
   }
  },
  {
   "cell_type": "code",
   "execution_count": null,
   "outputs": [],
   "source": [
    "# TODO: purify data\n",
    "# Not sure if I'm doing things right here!\n",
    "allBBCMatrix, allBBCVocab = get_matrix_and_vocabulary(allBBCFiles.data)\n",
    "businessMatrix, businessVocab = get_matrix_and_vocabulary(businessFiles.data)\n",
    "entertainmentMatrix, entertainmentVocab = get_matrix_and_vocabulary(entertainmentFiles.data)\n",
    "politicsMatrix, politicsVocab = get_matrix_and_vocabulary(politicsFiles.data)\n",
    "sportMatrix, sportVocab = get_matrix_and_vocabulary(sportFiles.data)\n",
    "techMatrix, techVocab = get_matrix_and_vocabulary(techFiles.data)\n"
   ],
   "metadata": {
    "collapsed": false,
    "pycharm": {
     "name": "#%%\n"
    }
   }
  }
 ]
}