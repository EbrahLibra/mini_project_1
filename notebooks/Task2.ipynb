{
 "cells": [
  {
   "cell_type": "markdown",
   "id": "3ed4e9e4-bc64-41d8-bff8-dc1f52de0720",
   "metadata": {},
   "source": [
    "# Task 2"
   ]
  },
  {
   "cell_type": "markdown",
   "id": "61be3373-ebf3-4a6b-82c9-3c9dd35d61d0",
   "metadata": {},
   "source": [
    "### 1. Download Drug Dataset & Add Imports"
   ]
  },
  {
   "cell_type": "code",
   "execution_count": 1,
   "id": "c3f5757c",
   "metadata": {},
   "outputs": [],
   "source": [
    "# Add Imports\n",
    "import numpy as np\n",
    "import pandas as pd\n",
    "import matplotlib.pyplot as plt\n",
    "from sklearn.model_selection import train_test_split\n",
    "from sklearn.naive_bayes import GaussianNB\n",
    "from sklearn.tree import DecisionTreeClassifier\n",
    "from sklearn.linear_model import Perceptron\n",
    "from sklearn.neural_network import MLPClassifier\n",
    "from sklearn.model_selection import GridSearchCV\n",
    "from sklearn.metrics import classification_report, confusion_matrix"
   ]
  },
  {
   "cell_type": "markdown",
   "id": "f57ad942",
   "metadata": {},
   "source": [
    "### 2. Load Drug Dataset"
   ]
  },
  {
   "cell_type": "code",
   "execution_count": 2,
   "id": "4592e8cc-d21b-4c47-99ba-2ec6118c30c1",
   "metadata": {},
   "outputs": [
    {
     "name": "stdout",
     "output_type": "stream",
     "text": [
      "   Age Sex      BP Cholesterol  Na_to_K   Drug\n",
      "0   23   F    HIGH        HIGH   25.355  drugY\n",
      "1   47   M     LOW        HIGH   13.093  drugC\n",
      "2   47   M     LOW        HIGH   10.114  drugC\n",
      "3   28   F  NORMAL        HIGH    7.798  drugX\n",
      "4   61   F     LOW        HIGH   18.043  drugY\n"
     ]
    }
   ],
   "source": [
    "# Load dataset\n",
    "drug_dataset = pd.read_csv('../data/drug200.csv')\n",
    "\n",
    "# Show head\n",
    "head = drug_dataset.head()\n",
    "print(head)\n"
   ]
  },
  {
   "cell_type": "markdown",
   "id": "0d65b812",
   "metadata": {},
   "source": [
    "### 3. Plot the distribution of the instances in each class"
   ]
  },
  {
   "cell_type": "code",
   "execution_count": 3,
   "id": "9cd40dd0-501a-4822-a875-dfb4bf42e678",
   "metadata": {},
   "outputs": [
    {
     "data": {
      "image/png": "[encoded data removed]",
      "text/plain": [
       "<Figure size 1296x432 with 1 Axes>"
      ]
     },
     "metadata": {
      "needs_background": "light"
     },
     "output_type": "display_data"
    }
   ],
   "source": [
    "sp = drug_dataset['Drug'].value_counts().plot(title='Drug instance count', figsize=(18, 6),\n",
    "                                         kind='barh')\n",
    "\n",
    "plt.savefig('../out/drug-distribution.pdf')"
   ]
  },
  {
   "cell_type": "markdown",
   "id": "d1810c48-605e-4f18-9095-a16ff7ba1a30",
   "metadata": {},
   "source": [
    "### 4. Convert categorical data to numerical"
   ]
  },
  {
   "cell_type": "code",
   "execution_count": 4,
   "id": "c49944db-5e3a-471a-a493-c645e2c27a02",
   "metadata": {},
   "outputs": [
    {
     "name": "stdout",
     "output_type": "stream",
     "text": [
      "   Age  Sex  BP  Cholesterol  Na_to_K   Drug\n",
      "0   23    0   2            2   25.355  drugY\n",
      "1   47    1   0            2   13.093  drugC\n",
      "2   47    1   0            2   10.114  drugC\n",
      "3   28    0   1            2    7.798  drugX\n",
      "4   61    0   0            2   18.043  drugY\n"
     ]
    }
   ],
   "source": [
    "cleanup_enums = {\n",
    "    \"Sex\": { \"F\": 0, \"M\": 1 },\n",
    "    \"BP\": {\"LOW\": 0, \"NORMAL\": 1, \"HIGH\": 2},\n",
    "    \"Cholesterol\": {\"LOW\": 0, \"NORMAL\": 1, \"HIGH\": 2},\n",
    "#     \"Drug\": {\"drugA\": 0, \"drugB\": 1, \"drugC\": 3, \"drugX\": 4, \"drugY\": 5}\n",
    "}\n",
    "\n",
    "drug_dataset = drug_dataset.replace(cleanup_enums)\n",
    "\n",
    "print(drug_dataset.head())\n"
   ]
  },
  {
   "cell_type": "markdown",
   "id": "ecedc5c4-c1ed-48fc-9f80-00f0f4538194",
   "metadata": {},
   "source": [
    "### 5. Split the dataset using Train/Test Split "
   ]
  },
  {
   "cell_type": "code",
   "execution_count": 5,
   "id": "8fa4e650-7794-48a5-874f-dbfb892faade",
   "metadata": {},
   "outputs": [],
   "source": [
    "X = drug_dataset.loc[:, drug_dataset.columns != 'Drug']\n",
    "Y = drug_dataset['Drug']\n",
    "\n",
    "X_train, X_test, y_train, y_test = train_test_split(X, Y, test_size=0.20)\n",
    "predictions = {}"
   ]
  },
  {
   "cell_type": "markdown",
   "id": "6e6afdfa-72fa-4a81-93cc-a369ec170103",
   "metadata": {},
   "source": [
    "### 6. Fitting and Predictions on Different Classifiers"
   ]
  },
  {
   "cell_type": "code",
   "execution_count": null,
   "id": "7a227834-6761-4571-a5a3-37ebd5eca5b6",
   "metadata": {},
   "outputs": [],
   "source": [
    "\n",
    "\n",
    "gnb = GaussianNB()\n",
    "\n",
    "gnb_prediction = gnb.fit(X_train, y_train).predict(X_test)\n",
    "\n",
    "\n",
    "\n",
    "\n",
    "dtc = DecisionTreeClassifier()\n",
    "\n",
    "dtc_prediction = dtc.fit(X_train, y_train).predict(X_test)\n",
    "\n",
    "\n",
    "\n",
    "\n",
    "per = Perceptron()\n",
    "\n",
    "per_prediction = per.fit(X_train, y_train).predict(X_test)\n",
    "\n",
    "\n",
    "\n",
    "base_mlp = MLPClassifier(hidden_layer_sizes=100)\n",
    "\n",
    "base_mlp_prediction = base_mlp.fit(X_train, y_train).predict(X_test)"
   ]
  },
  {
   "cell_type": "code",
   "execution_count": null,
   "id": "fa75002d-24c4-4528-b7bb-063f529a03a1",
   "metadata": {},
   "outputs": [],
   "source": []
  }
 ],
 "metadata": {
  "kernelspec": {
   "display_name": "Python 3 (ipykernel)",
   "language": "python",
   "name": "python3"
  },
  "language_info": {
   "codemirror_mode": {
    "name": "ipython",
    "version": 3
   },
   "file_extension": ".py",
   "mimetype": "text/x-python",
   "name": "python",
   "nbconvert_exporter": "python",
   "pygments_lexer": "ipython3",
   "version": "3.7.10"
  }
 },
 "nbformat": 4,
 "nbformat_minor": 5
}
